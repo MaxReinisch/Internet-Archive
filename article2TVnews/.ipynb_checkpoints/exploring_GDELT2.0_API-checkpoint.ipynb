{
 "cells": [
  {
   "cell_type": "markdown",
   "metadata": {},
   "source": [
    "# Exploring GDELT 2.0 TV News API\n",
    "\n",
    "In this notebook, I will be playing with the API to see what the optimal use is, especially for recommendations. I will list any notes, problems, and discoveries here:\n",
    "\n",
    "- Example:\n",
    "    - https://api.gdeltproject.org/api/v2/tv/tv?query=Kris%20Kobach%20Jeff%20Colyer%20market:%22National%22&mode=clipgallery&format=json&datanorm=perc&timelinesmooth=0&datacomb=sep&last24=yes&timezoom=yes&TIMESPAN=14days#"
   ]
  },
  {
   "cell_type": "code",
   "execution_count": 62,
   "metadata": {},
   "outputs": [],
   "source": [
    "import pandas as pd\n",
    "import numpy as np\n",
    "from sklearn.feature_extraction.text import TfidfVectorizer, CountVectorizer\n",
    "import requests\n",
    "import json\n",
    "import csv"
   ]
  },
  {
   "cell_type": "markdown",
   "metadata": {},
   "source": [
    "Assume at this point, we already have parsed an article for entities to run a search query.  "
   ]
  },
  {
   "cell_type": "code",
   "execution_count": 37,
   "metadata": {},
   "outputs": [],
   "source": [
    "query = \"alex jones social media\"\n",
    "mode = \"json\"\n",
    "url = f'https://api.gdeltproject.org/api/v2/tv/tv?query={query}%20market:%22National%22&mode=clipgallery&format={mode}&datanorm=perc&timelinesmooth=0&datacomb=sep&last24=yes&timezoom=yes&TIMESPAN=14days#'"
   ]
  },
  {
   "cell_type": "code",
   "execution_count": 38,
   "metadata": {},
   "outputs": [
    {
     "name": "stdout",
     "output_type": "stream",
     "text": [
      "200\n"
     ]
    }
   ],
   "source": [
    "res = requests.get(url)\n",
    "print(res.status_code)"
   ]
  },
  {
   "cell_type": "code",
   "execution_count": 39,
   "metadata": {},
   "outputs": [],
   "source": [
    "df = pd.DataFrame(json.loads(res.text)['clips'])"
   ]
  },
  {
   "cell_type": "code",
   "execution_count": 77,
   "metadata": {},
   "outputs": [
    {
     "data": {
      "text/plain": [
       "(14, 8)"
      ]
     },
     "execution_count": 77,
     "metadata": {},
     "output_type": "execute_result"
    }
   ],
   "source": [
    "df.shape"
   ]
  },
  {
   "cell_type": "code",
   "execution_count": 40,
   "metadata": {},
   "outputs": [
    {
     "data": {
      "text/html": [
       "<div>\n",
       "<style scoped>\n",
       "    .dataframe tbody tr th:only-of-type {\n",
       "        vertical-align: middle;\n",
       "    }\n",
       "\n",
       "    .dataframe tbody tr th {\n",
       "        vertical-align: top;\n",
       "    }\n",
       "\n",
       "    .dataframe thead th {\n",
       "        text-align: right;\n",
       "    }\n",
       "</style>\n",
       "<table border=\"1\" class=\"dataframe\">\n",
       "  <thead>\n",
       "    <tr style=\"text-align: right;\">\n",
       "      <th></th>\n",
       "      <th>date</th>\n",
       "      <th>ia_show_id</th>\n",
       "      <th>preview_thumb</th>\n",
       "      <th>preview_url</th>\n",
       "      <th>show</th>\n",
       "      <th>show_date</th>\n",
       "      <th>snippet</th>\n",
       "      <th>station</th>\n",
       "    </tr>\n",
       "  </thead>\n",
       "  <tbody>\n",
       "    <tr>\n",
       "      <th>0</th>\n",
       "      <td>20180811T222716Z</td>\n",
       "      <td>FBC_20180811_220000_The_Journal_Editorial_Report</td>\n",
       "      <td>https://archive.org/download/FBC_20180811_2200...</td>\n",
       "      <td>https://archive.org/details/FBC_20180811_22000...</td>\n",
       "      <td>The Journal Editorial Report</td>\n",
       "      <td>20180811T220000Z</td>\n",
       "      <td>ruling rulers as a result of this as well. pau...</td>\n",
       "      <td>FOX Business</td>\n",
       "    </tr>\n",
       "    <tr>\n",
       "      <th>1</th>\n",
       "      <td>20180812T122717Z</td>\n",
       "      <td>FBC_20180812_120000_The_Journal_Editorial_Report</td>\n",
       "      <td>https://archive.org/download/FBC_20180812_1200...</td>\n",
       "      <td>https://archive.org/details/FBC_20180812_12000...</td>\n",
       "      <td>The Journal Editorial Report</td>\n",
       "      <td>20180812T120000Z</td>\n",
       "      <td>ruling rulers as a result of this as well. pau...</td>\n",
       "      <td>FOX Business</td>\n",
       "    </tr>\n",
       "    <tr>\n",
       "      <th>2</th>\n",
       "      <td>20180810T194547Z</td>\n",
       "      <td>MSNBCW_20180810_190000_MSNBC_Live_With_Ali_Velshi</td>\n",
       "      <td>https://archive.org/download/MSNBCW_20180810_1...</td>\n",
       "      <td>https://archive.org/details/MSNBCW_20180810_19...</td>\n",
       "      <td>MSNBC Live With Ali Velshi</td>\n",
       "      <td>20180810T190000Z</td>\n",
       "      <td>out over infowars on various social media. fal...</td>\n",
       "      <td>MSNBC</td>\n",
       "    </tr>\n",
       "    <tr>\n",
       "      <th>3</th>\n",
       "      <td>20180808T002435Z</td>\n",
       "      <td>FBC_20180808_000000_Kennedy</td>\n",
       "      <td>https://archive.org/download/FBC_20180808_0000...</td>\n",
       "      <td>https://archive.org/details/FBC_20180808_00000...</td>\n",
       "      <td>Kennedy</td>\n",
       "      <td>20180808T000000Z</td>\n",
       "      <td>kennedy: we have to pay the bills, congressman...</td>\n",
       "      <td>FOX Business</td>\n",
       "    </tr>\n",
       "    <tr>\n",
       "      <th>4</th>\n",
       "      <td>20180808T042436Z</td>\n",
       "      <td>FBC_20180808_040000_Kennedy</td>\n",
       "      <td>https://archive.org/download/FBC_20180808_0400...</td>\n",
       "      <td>https://archive.org/details/FBC_20180808_04000...</td>\n",
       "      <td>Kennedy</td>\n",
       "      <td>20180808T040000Z</td>\n",
       "      <td>kennedy: we have to pay the bills, congressman...</td>\n",
       "      <td>FOX Business</td>\n",
       "    </tr>\n",
       "  </tbody>\n",
       "</table>\n",
       "</div>"
      ],
      "text/plain": [
       "               date                                         ia_show_id  \\\n",
       "0  20180811T222716Z   FBC_20180811_220000_The_Journal_Editorial_Report   \n",
       "1  20180812T122717Z   FBC_20180812_120000_The_Journal_Editorial_Report   \n",
       "2  20180810T194547Z  MSNBCW_20180810_190000_MSNBC_Live_With_Ali_Velshi   \n",
       "3  20180808T002435Z                        FBC_20180808_000000_Kennedy   \n",
       "4  20180808T042436Z                        FBC_20180808_040000_Kennedy   \n",
       "\n",
       "                                       preview_thumb  \\\n",
       "0  https://archive.org/download/FBC_20180811_2200...   \n",
       "1  https://archive.org/download/FBC_20180812_1200...   \n",
       "2  https://archive.org/download/MSNBCW_20180810_1...   \n",
       "3  https://archive.org/download/FBC_20180808_0000...   \n",
       "4  https://archive.org/download/FBC_20180808_0400...   \n",
       "\n",
       "                                         preview_url  \\\n",
       "0  https://archive.org/details/FBC_20180811_22000...   \n",
       "1  https://archive.org/details/FBC_20180812_12000...   \n",
       "2  https://archive.org/details/MSNBCW_20180810_19...   \n",
       "3  https://archive.org/details/FBC_20180808_00000...   \n",
       "4  https://archive.org/details/FBC_20180808_04000...   \n",
       "\n",
       "                           show         show_date  \\\n",
       "0  The Journal Editorial Report  20180811T220000Z   \n",
       "1  The Journal Editorial Report  20180812T120000Z   \n",
       "2    MSNBC Live With Ali Velshi  20180810T190000Z   \n",
       "3                       Kennedy  20180808T000000Z   \n",
       "4                       Kennedy  20180808T040000Z   \n",
       "\n",
       "                                             snippet       station  \n",
       "0  ruling rulers as a result of this as well. pau...  FOX Business  \n",
       "1  ruling rulers as a result of this as well. pau...  FOX Business  \n",
       "2  out over infowars on various social media. fal...         MSNBC  \n",
       "3  kennedy: we have to pay the bills, congressman...  FOX Business  \n",
       "4  kennedy: we have to pay the bills, congressman...  FOX Business  "
      ]
     },
     "execution_count": 40,
     "metadata": {},
     "output_type": "execute_result"
    }
   ],
   "source": [
    "df.head()"
   ]
  },
  {
   "cell_type": "code",
   "execution_count": 45,
   "metadata": {},
   "outputs": [],
   "source": [
    "snippet_matrix = df.snippet.as_matrix()"
   ]
  },
  {
   "cell_type": "code",
   "execution_count": 72,
   "metadata": {},
   "outputs": [],
   "source": [
    "vectorizer = TfidfVectorizer(stop_words=\"english\", ngram_range=(1,2) )\n",
    "bow = vectorizer.fit_transform(snippet_matrix)"
   ]
  },
  {
   "cell_type": "code",
   "execution_count": 73,
   "metadata": {},
   "outputs": [],
   "source": [
    "bow_df = pd.DataFrame(bow.todense(), columns=vectorizer.get_feature_names())"
   ]
  },
  {
   "cell_type": "code",
   "execution_count": 74,
   "metadata": {},
   "outputs": [
    {
     "data": {
      "text/plain": [
       "(14, 266)"
      ]
     },
     "execution_count": 74,
     "metadata": {},
     "output_type": "execute_result"
    }
   ],
   "source": [
    "bow_df.shape"
   ]
  },
  {
   "cell_type": "code",
   "execution_count": 76,
   "metadata": {},
   "outputs": [
    {
     "data": {
      "text/html": [
       "<div>\n",
       "<style scoped>\n",
       "    .dataframe tbody tr th:only-of-type {\n",
       "        vertical-align: middle;\n",
       "    }\n",
       "\n",
       "    .dataframe tbody tr th {\n",
       "        vertical-align: top;\n",
       "    }\n",
       "\n",
       "    .dataframe thead th {\n",
       "        text-align: right;\n",
       "    }\n",
       "</style>\n",
       "<table border=\"1\" class=\"dataframe\">\n",
       "  <thead>\n",
       "    <tr style=\"text-align: right;\">\n",
       "      <th></th>\n",
       "      <th>89</th>\n",
       "      <th>89 days</th>\n",
       "      <th>ahead</th>\n",
       "      <th>ahead facebook</th>\n",
       "      <th>al</th>\n",
       "      <th>al social</th>\n",
       "      <th>alex</th>\n",
       "      <th>alex jones</th>\n",
       "      <th>allowing</th>\n",
       "      <th>allowing conspiracy</th>\n",
       "      <th>...</th>\n",
       "      <th>virtually al</th>\n",
       "      <th>wars</th>\n",
       "      <th>wars anger</th>\n",
       "      <th>wars crowd</th>\n",
       "      <th>wasn</th>\n",
       "      <th>wasn just</th>\n",
       "      <th>yeah</th>\n",
       "      <th>yeah define</th>\n",
       "      <th>youtube</th>\n",
       "      <th>youtube banned</th>\n",
       "    </tr>\n",
       "  </thead>\n",
       "  <tbody>\n",
       "    <tr>\n",
       "      <th>0</th>\n",
       "      <td>0.0</td>\n",
       "      <td>0.0</td>\n",
       "      <td>0.149832</td>\n",
       "      <td>0.149832</td>\n",
       "      <td>0.0</td>\n",
       "      <td>0.0</td>\n",
       "      <td>0.064534</td>\n",
       "      <td>0.064534</td>\n",
       "      <td>0.0</td>\n",
       "      <td>0.0</td>\n",
       "      <td>...</td>\n",
       "      <td>0.0</td>\n",
       "      <td>0.0</td>\n",
       "      <td>0.0</td>\n",
       "      <td>0.0</td>\n",
       "      <td>0.0</td>\n",
       "      <td>0.0</td>\n",
       "      <td>0.0</td>\n",
       "      <td>0.0</td>\n",
       "      <td>0.0</td>\n",
       "      <td>0.0</td>\n",
       "    </tr>\n",
       "    <tr>\n",
       "      <th>1</th>\n",
       "      <td>0.0</td>\n",
       "      <td>0.0</td>\n",
       "      <td>0.149832</td>\n",
       "      <td>0.149832</td>\n",
       "      <td>0.0</td>\n",
       "      <td>0.0</td>\n",
       "      <td>0.064534</td>\n",
       "      <td>0.064534</td>\n",
       "      <td>0.0</td>\n",
       "      <td>0.0</td>\n",
       "      <td>...</td>\n",
       "      <td>0.0</td>\n",
       "      <td>0.0</td>\n",
       "      <td>0.0</td>\n",
       "      <td>0.0</td>\n",
       "      <td>0.0</td>\n",
       "      <td>0.0</td>\n",
       "      <td>0.0</td>\n",
       "      <td>0.0</td>\n",
       "      <td>0.0</td>\n",
       "      <td>0.0</td>\n",
       "    </tr>\n",
       "    <tr>\n",
       "      <th>2</th>\n",
       "      <td>0.0</td>\n",
       "      <td>0.0</td>\n",
       "      <td>0.000000</td>\n",
       "      <td>0.000000</td>\n",
       "      <td>0.0</td>\n",
       "      <td>0.0</td>\n",
       "      <td>0.047312</td>\n",
       "      <td>0.047312</td>\n",
       "      <td>0.0</td>\n",
       "      <td>0.0</td>\n",
       "      <td>...</td>\n",
       "      <td>0.0</td>\n",
       "      <td>0.0</td>\n",
       "      <td>0.0</td>\n",
       "      <td>0.0</td>\n",
       "      <td>0.0</td>\n",
       "      <td>0.0</td>\n",
       "      <td>0.0</td>\n",
       "      <td>0.0</td>\n",
       "      <td>0.0</td>\n",
       "      <td>0.0</td>\n",
       "    </tr>\n",
       "    <tr>\n",
       "      <th>3</th>\n",
       "      <td>0.0</td>\n",
       "      <td>0.0</td>\n",
       "      <td>0.000000</td>\n",
       "      <td>0.000000</td>\n",
       "      <td>0.0</td>\n",
       "      <td>0.0</td>\n",
       "      <td>0.080051</td>\n",
       "      <td>0.080051</td>\n",
       "      <td>0.0</td>\n",
       "      <td>0.0</td>\n",
       "      <td>...</td>\n",
       "      <td>0.0</td>\n",
       "      <td>0.0</td>\n",
       "      <td>0.0</td>\n",
       "      <td>0.0</td>\n",
       "      <td>0.0</td>\n",
       "      <td>0.0</td>\n",
       "      <td>0.0</td>\n",
       "      <td>0.0</td>\n",
       "      <td>0.0</td>\n",
       "      <td>0.0</td>\n",
       "    </tr>\n",
       "    <tr>\n",
       "      <th>4</th>\n",
       "      <td>0.0</td>\n",
       "      <td>0.0</td>\n",
       "      <td>0.000000</td>\n",
       "      <td>0.000000</td>\n",
       "      <td>0.0</td>\n",
       "      <td>0.0</td>\n",
       "      <td>0.080051</td>\n",
       "      <td>0.080051</td>\n",
       "      <td>0.0</td>\n",
       "      <td>0.0</td>\n",
       "      <td>...</td>\n",
       "      <td>0.0</td>\n",
       "      <td>0.0</td>\n",
       "      <td>0.0</td>\n",
       "      <td>0.0</td>\n",
       "      <td>0.0</td>\n",
       "      <td>0.0</td>\n",
       "      <td>0.0</td>\n",
       "      <td>0.0</td>\n",
       "      <td>0.0</td>\n",
       "      <td>0.0</td>\n",
       "    </tr>\n",
       "  </tbody>\n",
       "</table>\n",
       "<p>5 rows × 266 columns</p>\n",
       "</div>"
      ],
      "text/plain": [
       "    89  89 days     ahead  ahead facebook   al  al social      alex  \\\n",
       "0  0.0      0.0  0.149832        0.149832  0.0        0.0  0.064534   \n",
       "1  0.0      0.0  0.149832        0.149832  0.0        0.0  0.064534   \n",
       "2  0.0      0.0  0.000000        0.000000  0.0        0.0  0.047312   \n",
       "3  0.0      0.0  0.000000        0.000000  0.0        0.0  0.080051   \n",
       "4  0.0      0.0  0.000000        0.000000  0.0        0.0  0.080051   \n",
       "\n",
       "   alex jones  allowing  allowing conspiracy       ...        virtually al  \\\n",
       "0    0.064534       0.0                  0.0       ...                 0.0   \n",
       "1    0.064534       0.0                  0.0       ...                 0.0   \n",
       "2    0.047312       0.0                  0.0       ...                 0.0   \n",
       "3    0.080051       0.0                  0.0       ...                 0.0   \n",
       "4    0.080051       0.0                  0.0       ...                 0.0   \n",
       "\n",
       "   wars  wars anger  wars crowd  wasn  wasn just  yeah  yeah define  youtube  \\\n",
       "0   0.0         0.0         0.0   0.0        0.0   0.0          0.0      0.0   \n",
       "1   0.0         0.0         0.0   0.0        0.0   0.0          0.0      0.0   \n",
       "2   0.0         0.0         0.0   0.0        0.0   0.0          0.0      0.0   \n",
       "3   0.0         0.0         0.0   0.0        0.0   0.0          0.0      0.0   \n",
       "4   0.0         0.0         0.0   0.0        0.0   0.0          0.0      0.0   \n",
       "\n",
       "   youtube banned  \n",
       "0             0.0  \n",
       "1             0.0  \n",
       "2             0.0  \n",
       "3             0.0  \n",
       "4             0.0  \n",
       "\n",
       "[5 rows x 266 columns]"
      ]
     },
     "execution_count": 76,
     "metadata": {},
     "output_type": "execute_result"
    }
   ],
   "source": [
    "bow_df.head()"
   ]
  },
  {
   "cell_type": "code",
   "execution_count": null,
   "metadata": {},
   "outputs": [],
   "source": []
  }
 ],
 "metadata": {
  "kernelspec": {
   "display_name": "Python 3",
   "language": "python",
   "name": "python3"
  },
  "language_info": {
   "codemirror_mode": {
    "name": "ipython",
    "version": 3
   },
   "file_extension": ".py",
   "mimetype": "text/x-python",
   "name": "python",
   "nbconvert_exporter": "python",
   "pygments_lexer": "ipython3",
   "version": "3.6.4"
  }
 },
 "nbformat": 4,
 "nbformat_minor": 2
}
