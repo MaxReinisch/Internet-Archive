{
 "cells": [
  {
   "cell_type": "markdown",
   "metadata": {},
   "source": [
    "# This Project's aim is to recommend a tv-news clip based on a given article using a content filter recommender"
   ]
  },
  {
   "cell_type": "markdown",
   "metadata": {},
   "source": [
    "# Summary of the project:\n",
    "\n",
    "#### Static structure\n",
    "To build this, we will need a DB of the possible recommendations. This will have features such as:\n",
    "- `Title`\n",
    "    - Used to display to user\n",
    "- `entities`\n",
    "    - A vector of the features for each video\n",
    "- `url` \n",
    "    - A link to the full segment\n",
    "    \n",
    "    \n",
    "#### Program\n",
    "1. We will programatically scan an article and parse it for its own entity vector. \n",
    "    - NLP topic modeling needed\n",
    "2. Then we will find cosine dist from the article to each news clip. \n",
    "3. return the 3 closest clips.\n",
    "\n",
    "#### Notes:\n",
    "- Depending on the size of the DB, we probably won't want to go through each entry.  Maybe I can cluster closer clips and return the cluster\n",
    "- Probably want to use components as well. \n",
    "- News sources: BBC, CNN, Fox, RT, MSNBC, Huffpo, the guardian, NYT\n",
    "- opencalais\n",
    "- \n"
   ]
  },
  {
   "cell_type": "markdown",
   "metadata": {},
   "source": [
    "## Imports"
   ]
  },
  {
   "cell_type": "code",
   "execution_count": 1,
   "metadata": {},
   "outputs": [],
   "source": [
    "from sklearn.feature_extraction.text import CountVectorizer\n",
    "import requests\n",
    "from bs4 import BeautifulSoup"
   ]
  },
  {
   "cell_type": "markdown",
   "metadata": {},
   "source": [
    "## Scan article\n",
    "- request site\n",
    "    - found this api:https://newsapi.org/\n",
    "        - Can't search individual articles by url as far as I can tell.  Might be worth considering though for multiple news sources\n",
    "        - Doesn't return full article, only title and desc\n",
    "- find relevant info\n",
    "    - http://mallet.cs.umass.edu/index.php\n",
    "    - http://www.opencalais.com/\n",
    "- assemble corpus OR run search on archive.org"
   ]
  },
  {
   "cell_type": "markdown",
   "metadata": {},
   "source": [
    "#### Requests"
   ]
  },
  {
   "cell_type": "code",
   "execution_count": 2,
   "metadata": {},
   "outputs": [
    {
     "data": {
      "text/plain": [
       "200"
      ]
     },
     "execution_count": 2,
     "metadata": {},
     "output_type": "execute_result"
    }
   ],
   "source": [
    "url = 'https://www.nytimes.com/2018/08/09/us/politics/kansas-kobach-colyer-votes.html'\n",
    "res = requests.get(url)\n",
    "res.status_code"
   ]
  },
  {
   "cell_type": "code",
   "execution_count": 3,
   "metadata": {},
   "outputs": [],
   "source": [
    "soup = BeautifulSoup(res.content, 'lxml')"
   ]
  },
  {
   "cell_type": "markdown",
   "metadata": {},
   "source": [
    "### Parse"
   ]
  },
  {
   "cell_type": "code",
   "execution_count": 4,
   "metadata": {},
   "outputs": [
    {
     "data": {
      "text/plain": [
       "'Kobach Says He Will Recuse Himself From Kansas Primary Vote Count'"
      ]
     },
     "execution_count": 4,
     "metadata": {},
     "output_type": "execute_result"
    }
   ],
   "source": [
    "title = soup.find(\"h1\", attrs={\"itemprop\":\"headline\"}).text\n",
    "title"
   ]
  },
  {
   "cell_type": "code",
   "execution_count": 5,
   "metadata": {},
   "outputs": [
    {
     "data": {
      "text/plain": [
       "' Gov. Jeff Colyer, announcing the creation of a “voting integrity hotline” and suggesting there had been problems on Election Day.'"
      ]
     },
     "execution_count": 5,
     "metadata": {},
     "output_type": "execute_result"
    }
   ],
   "source": [
    "subtitle = soup.find(\"body\").find(\"span\", attrs={\"class\":\"ResponsiveMedia-captionText--2WFdF\"}).text\n",
    "subtitle"
   ]
  },
  {
   "cell_type": "code",
   "execution_count": 6,
   "metadata": {},
   "outputs": [
    {
     "ename": "AttributeError",
     "evalue": "'NoneType' object has no attribute 'text'",
     "output_type": "error",
     "traceback": [
      "\u001b[1;31m---------------------------------------------------------------------------\u001b[0m",
      "\u001b[1;31mAttributeError\u001b[0m                            Traceback (most recent call last)",
      "\u001b[1;32m<ipython-input-6-224795b0e61a>\u001b[0m in \u001b[0;36m<module>\u001b[1;34m()\u001b[0m\n\u001b[1;32m----> 1\u001b[1;33m \u001b[0msoup\u001b[0m\u001b[1;33m.\u001b[0m\u001b[0mfind\u001b[0m\u001b[1;33m(\u001b[0m\u001b[1;34m\"a\"\u001b[0m\u001b[1;33m,\u001b[0m \u001b[0mattrs\u001b[0m\u001b[1;33m=\u001b[0m\u001b[1;33m{\u001b[0m\u001b[1;34m\"class\"\u001b[0m\u001b[1;33m:\u001b[0m \u001b[1;34m\"author-card__link\"\u001b[0m\u001b[1;33m}\u001b[0m\u001b[1;33m)\u001b[0m\u001b[1;33m.\u001b[0m\u001b[0mtext\u001b[0m\u001b[1;33m\u001b[0m\u001b[0m\n\u001b[0m",
      "\u001b[1;31mAttributeError\u001b[0m: 'NoneType' object has no attribute 'text'"
     ]
    }
   ],
   "source": [
    "soup.find(\"a\", attrs={\"class\": \"author-card__link\"}).text"
   ]
  },
  {
   "cell_type": "code",
   "execution_count": 7,
   "metadata": {},
   "outputs": [
    {
     "name": "stdout",
     "output_type": "stream",
     "text": [
      "Secretary of State Kris W. Kobach of Kansas, clinging to the slimmest of leads in the Republican primary for governor, said Thursday night that he planned to recuse himself from the vote-counting process. Earlier in the evening, his opponent, Gov. Jeff Colyer, said that some local election officials had been provided incorrect information by Mr. Kobach that could suppress votes.\n",
      "\n",
      "“I’ll be happy to recuse myself,” Mr. Kobach, who oversees the state’s elections, said in an interview with CNN. Mr. Kobach, who has the endorsement of President Trump and has built a national reputation for warning of widespread vote fraud, suggested that his role in the Kansas count had been mostly symbolic anyway.\n",
      "\n",
      "The governor’s fiery recusal request, and Mr. Kobach’s pledge to comply, came after the nationally watched  primary left the candidates separated by only 191 votes entering Thursday.\n",
      "\n",
      "In a letter, Mr. Colyer said some clerks had been provided incorrect information about which ballots to count, and he urged Mr. Kobach to appoint the state attorney general to handle future questions from local election workers.\n",
      "\n",
      "“It has come to my attention that your office is giving advice to county election officials — as recently as a conference call yesterday — and you are making public statements on national television which are inconsistent with Kansas law and may serve to suppress the vote in the ongoing Kansas primary election process,” Mr. Colyer wrote.\n",
      "\n",
      "That sour letter, sent just a day after both candidates called for Republican unity, underscored longstanding divisions within the state party and the extreme closeness of a nationally watched race in which thousands of votes have not yet been recorded. The extended counting process, which will last at least into next week and perhaps much longer, gives the already hopeful Democratic and independent candidates a chance to campaign while the Republicans remain mired in a primary.\n",
      "\n",
      "Earlier Thursday, discrepancies emerged between the vote totals reported by Mr. Kobach’s office and the numbers posted on at least three county election websites. And Mr. Colyer was upset by Mr. Kobach’s statement on Fox News a day earlier that mail-in ballots had already been counted. (Though many mailed ballots were reported with the Election Day results, Kansas law allows ballots postmarked by Tuesday to count as long as they are received by Friday.)\n",
      "\n",
      "Vote totals have already shifted, and will continue to do so. In rural Thomas County, in northwestern Kansas, the state had recorded 422 votes for Mr. Colyer when he had actually received 522. The change meant that Mr. Colyer in fact carried Thomas County, where Mr. Kobach received 466 votes, and it halved Mr. Kobach’s statewide lead.\n",
      "\n",
      "Shelly Harms, the elected clerk of Thomas County, said in a phone interview that her office reported correct data to the state and then corrected it when the state misreported the data. Ms. Harms said Mr. Colyer’s vote total was the only number from her county that the state recorded incorrectly.\n",
      "\n",
      "“How they misread a four from a five, I don’t know,” said Ms. Harms, a Republican.\n",
      "\n",
      "Local news outlets found at least two other counties where the vote totals on the county website strayed from those reported by the state. Officials in Mr. Kobach’s office did not respond to repeated requests for comment on Thursday afternoon and evening, and it was unclear what those variations would mean for the overall count.\n",
      "\n",
      "Mr. Kobach’s office said additional votes, including mail-in ballots, would be reported on Friday. And next week, election workers in the state’s 105 counties will begin examining each of thousands of provisional ballots and deciding whether they should count.\n",
      "\n",
      "The race between Mr. Kobach, also known nationally for dire warnings about illegal immigration, and Mr. Colyer, a comparatively mild-mannered plastic surgeon who has been governor less than seven months, had attracted national interest long before the razor-thin vote total. Both men are staunchly conservative, but they are far different in style and appeal to different factions of Kansas Republicans.\n",
      "\n",
      "On Monday, Mr. Trump endorsed Mr. Kobach, a cable TV regular who served on the president’s defunct voter fraud commission, despite resistance from some national Republicans who believe Mr. Colyer would be a stronger general election candidate. The eventual nominee will face State Senator Laura Kelly, a Democrat, and Greg Orman, a businessman running as an independent, in November.\n",
      "\n",
      "If the margin in the primary remains close after the provisional and mail-in ballots are counted, the trailing candidate could request a recount.\n"
     ]
    }
   ],
   "source": [
    "body = \"\\n\\n\".join(list(map(lambda x: x.text, soup.find_all(\"p\", attrs={\"class\":\"css-1i0edl6 e2kc3sl0\" }))))\n",
    "print(body)"
   ]
  },
  {
   "cell_type": "markdown",
   "metadata": {},
   "source": [
    "## Entity extraction"
   ]
  },
  {
   "cell_type": "markdown",
   "metadata": {},
   "source": [
    "### OpenCalais"
   ]
  },
  {
   "cell_type": "code",
   "execution_count": 8,
   "metadata": {},
   "outputs": [],
   "source": [
    "# calais variables\n",
    "access_token = \"cvTFhY53VXBYm5HO85weHPx346W05015\"\n",
    "calais_url = 'https://api.thomsonreuters.com/permid/calais'\n",
    "headers = {'X-AG-Access-Token' : access_token, 'Content-Type' : 'text/raw', 'outputformat' : 'application/json'}\n"
   ]
  },
  {
   "cell_type": "code",
   "execution_count": 9,
   "metadata": {},
   "outputs": [
    {
     "name": "stdout",
     "output_type": "stream",
     "text": [
      "status code: 200\n"
     ]
    }
   ],
   "source": [
    "response = requests.post(calais_url, data=body.encode('utf-8'), headers=headers, timeout=80)\n",
    "print ('status code: %s' % response.status_code)\n",
    "content = response.text\n",
    "# print ('Results received: %s' % content)"
   ]
  },
  {
   "cell_type": "code",
   "execution_count": 10,
   "metadata": {},
   "outputs": [],
   "source": [
    "import json\n",
    "\n",
    "c = json.loads(content)\n"
   ]
  },
  {
   "cell_type": "code",
   "execution_count": 11,
   "metadata": {},
   "outputs": [],
   "source": [
    "topics = list(c.keys())[1:]"
   ]
  },
  {
   "cell_type": "code",
   "execution_count": 12,
   "metadata": {
    "scrolled": true
   },
   "outputs": [
    {
     "name": "stdout",
     "output_type": "stream",
     "text": [
      "Politics\n",
      "\n",
      "\n",
      "Government\n",
      "importance: 1\n",
      "\n",
      "Politics\n",
      "importance: 1\n",
      "\n",
      "United States\n",
      "importance: 1\n",
      "\n",
      "American people of German descent\n",
      "importance: 2\n",
      "\n",
      "Kris Kobach\n",
      "importance: 2\n",
      "\n",
      "Voter suppression\n",
      "importance: 2\n",
      "\n",
      "Jeff Colyer\n",
      "importance: 2\n",
      "\n",
      "Presidential Advisory Commission on Election Integrity\n",
      "importance: 2\n",
      "\n",
      "Provisional ballot\n",
      "importance: 2\n",
      "\n",
      "Kansas\n",
      "importance: 2\n",
      "\n",
      "Electoral fraud\n",
      "importance: 2\n",
      "\n",
      "Fish v. Kobach\n",
      "importance: 2\n",
      "\n",
      "Broadcasting - NEC\n",
      "relevance: 0\n",
      "\n",
      "News Agencies\n",
      "relevance: 0\n",
      "\n",
      "\n",
      "Greg Orman\n",
      "relevance: 0.2\n",
      "\n",
      "primary election\n",
      "relevance: 0.2\n",
      "\n",
      "Kansas\n",
      "relevance: 0.2\n",
      "\n",
      "Kris W. Kobach\n",
      "relevance: 0.8\n",
      "\n",
      "Governor\n",
      "relevance: 0.8\n",
      "\n",
      "a primary\n",
      "relevance: 0.2\n",
      "\n",
      "businessman\n",
      "relevance: 0.2\n",
      "\n",
      "fox news\n",
      "relevance: 0\n",
      "\n",
      "President\n",
      "relevance: 0.8\n",
      "\n",
      "primary\n",
      "relevance: 0.2\n",
      "\n",
      "Laura Kelly\n",
      "relevance: 0.2\n",
      "\n",
      "comparatively mild-mannered plastic surgeon\n",
      "relevance: 0.2\n",
      "\n",
      "Trump\n",
      "relevance: 0.8\n",
      "\n",
      "general election\n",
      "relevance: 0.2\n",
      "\n",
      "Thomas County\n",
      "relevance: 0.2\n",
      "\n",
      "Jeff Colyer\n",
      "relevance: 0.8\n",
      "\n",
      "the primary\n",
      "relevance: 0.2\n",
      "\n",
      "clerk\n",
      "relevance: 0.2\n",
      "\n",
      "attorney general\n",
      "relevance: 0.2\n",
      "\n",
      "northwestern Kansas\n",
      "relevance: 0.2\n",
      "\n",
      "Republican primary\n",
      "relevance: 0.2\n",
      "\n",
      "Secretary of State\n",
      "relevance: 0.2\n",
      "\n",
      "CNN\n",
      "relevance: 0\n",
      "\n",
      "Cable TV\n",
      "relevance: 0.2\n",
      "\n",
      "Shelly Harms\n",
      "relevance: 0.2\n",
      "\n",
      "\n",
      "\n",
      "\n",
      "\n",
      "\n",
      "\n",
      "\n",
      "\n",
      "\n",
      "\n",
      "\n",
      "\n",
      "\n",
      "\n",
      "\n"
     ]
    }
   ],
   "source": [
    "for topic in topics:\n",
    "    try:\n",
    "        print(c[topic]['name'])\n",
    "        if(c[topic][\"_typeGroup\"] in ['topics', 'socialTag']):\n",
    "            print(\"importance:\", c[topic]['importance'])\n",
    "        else:\n",
    "            print(\"relevance:\", c[topic]['relevance'])\n",
    "    except:\n",
    "        pass\n",
    "    print()"
   ]
  },
  {
   "cell_type": "code",
   "execution_count": 13,
   "metadata": {},
   "outputs": [
    {
     "name": "stdout",
     "output_type": "stream",
     "text": [
      "Greg Orman\n",
      "mentioned 1 times\n",
      "dict_keys(['_typeGroup', '_type', 'forenduserdisplay', 'name', 'persontype', 'nationality', 'confidencelevel', 'firstname', 'lastname', 'commonname', '_typeReference', 'permid', 'instances', 'relevance', 'confidence'])\n",
      "\n",
      "primary election\n",
      "mentioned 1 times\n",
      "dict_keys(['_typeGroup', '_type', 'forenduserdisplay', 'name', 'politicaleventtype', 'location', '_typeReference', 'instances', 'relevance'])\n",
      "\n",
      "Kansas\n",
      "mentioned 6 times\n",
      "dict_keys(['_typeGroup', '_type', 'forenduserdisplay', 'name', '_typeReference', 'instances', 'relevance', 'resolutions'])\n",
      "\n",
      "Kris W. Kobach\n",
      "mentioned 17 times\n",
      "dict_keys(['_typeGroup', '_type', 'forenduserdisplay', 'name', 'persontype', 'nationality', 'confidencelevel', 'commonname', 'confidence', '_typeReference', 'permid', 'instances', 'relevance'])\n",
      "\n",
      "Governor\n",
      "mentioned 4 times\n",
      "dict_keys(['_typeGroup', '_type', 'forenduserdisplay', 'name', '_typeReference', 'instances', 'relevance'])\n",
      "\n",
      "a primary\n",
      "mentioned 1 times\n",
      "dict_keys(['_typeGroup', '_type', 'forenduserdisplay', 'name', 'politicaleventtype', '_typeReference', 'instances', 'relevance'])\n",
      "\n",
      "businessman\n",
      "mentioned 1 times\n",
      "dict_keys(['_typeGroup', '_type', 'forenduserdisplay', 'name', '_typeReference', 'instances', 'relevance'])\n",
      "\n",
      "fox news\n",
      "mentioned 1 times\n",
      "dict_keys(['_typeGroup', '_type', 'forenduserdisplay', 'name', 'confidencelevel', 'recognizedas', '_typeReference', 'instances', 'relevance', 'resolutions', 'confidence'])\n",
      "\n",
      "President\n",
      "mentioned 2 times\n",
      "dict_keys(['_typeGroup', '_type', 'forenduserdisplay', 'name', '_typeReference', 'instances', 'relevance'])\n",
      "\n",
      "primary\n",
      "mentioned 1 times\n",
      "dict_keys(['_typeGroup', '_type', 'forenduserdisplay', 'name', 'politicaleventtype', '_typeReference', 'instances', 'relevance'])\n",
      "\n",
      "Laura Kelly\n",
      "mentioned 1 times\n",
      "dict_keys(['_typeGroup', '_type', 'forenduserdisplay', 'name', 'persontype', 'nationality', 'confidencelevel', 'firstname', 'lastname', 'commonname', '_typeReference', 'permid', 'instances', 'relevance', 'confidence', 'resolutions'])\n",
      "\n",
      "comparatively mild-mannered plastic surgeon\n",
      "mentioned 1 times\n",
      "dict_keys(['_typeGroup', '_type', 'forenduserdisplay', 'name', '_typeReference', 'instances', 'relevance'])\n",
      "\n",
      "Trump\n",
      "mentioned 2 times\n",
      "dict_keys(['_typeGroup', '_type', 'forenduserdisplay', 'name', 'persontype', 'nationality', 'confidencelevel', 'lastname', 'commonname', '_typeReference', 'permid', 'instances', 'relevance', 'confidence'])\n",
      "\n",
      "general election\n",
      "mentioned 1 times\n",
      "dict_keys(['_typeGroup', '_type', 'forenduserdisplay', 'name', 'politicaleventtype', '_typeReference', 'instances', 'relevance'])\n",
      "\n",
      "Thomas County\n",
      "mentioned 3 times\n",
      "dict_keys(['_typeGroup', '_type', 'forenduserdisplay', 'name', '_typeReference', 'instances', 'relevance'])\n",
      "\n",
      "Jeff Colyer\n",
      "mentioned 11 times\n",
      "dict_keys(['_typeGroup', '_type', 'forenduserdisplay', 'name', 'persontype', 'nationality', 'confidencelevel', 'firstname', 'lastname', 'commonname', '_typeReference', 'permid', 'instances', 'relevance', 'confidence'])\n",
      "\n",
      "the primary\n",
      "mentioned 1 times\n",
      "dict_keys(['_typeGroup', '_type', 'forenduserdisplay', 'name', 'politicaleventtype', '_typeReference', 'instances', 'relevance'])\n",
      "\n",
      "clerk\n",
      "mentioned 1 times\n",
      "dict_keys(['_typeGroup', '_type', 'forenduserdisplay', 'name', '_typeReference', 'instances', 'relevance'])\n",
      "\n",
      "attorney general\n",
      "mentioned 1 times\n",
      "dict_keys(['_typeGroup', '_type', 'forenduserdisplay', 'name', '_typeReference', 'instances', 'relevance'])\n",
      "\n",
      "northwestern Kansas\n",
      "mentioned 1 times\n",
      "dict_keys(['_typeGroup', '_type', 'forenduserdisplay', 'name', '_typeReference', 'instances', 'relevance'])\n",
      "\n",
      "Republican primary\n",
      "mentioned 1 times\n",
      "dict_keys(['_typeGroup', '_type', 'forenduserdisplay', 'name', 'politicaleventtype', '_typeReference', 'instances', 'relevance'])\n",
      "\n",
      "Secretary of State\n",
      "mentioned 1 times\n",
      "dict_keys(['_typeGroup', '_type', 'forenduserdisplay', 'name', '_typeReference', 'instances', 'relevance'])\n",
      "\n",
      "CNN\n",
      "mentioned 1 times\n",
      "dict_keys(['_typeGroup', '_type', 'forenduserdisplay', 'name', 'nationality', 'confidencelevel', 'recognizedas', 'resolutions', 'confidence', '_typeReference', 'instances', 'relevance'])\n",
      "\n",
      "Cable TV\n",
      "mentioned 1 times\n",
      "dict_keys(['_typeGroup', '_type', 'forenduserdisplay', 'name', '_typeReference', 'instances', 'relevance'])\n",
      "\n",
      "Shelly Harms\n",
      "mentioned 5 times\n",
      "dict_keys(['_typeGroup', '_type', 'forenduserdisplay', 'name', 'persontype', 'nationality', 'confidencelevel', 'firstname', 'lastname', 'commonname', 'confidence', '_typeReference', 'permid', 'instances', 'relevance'])\n",
      "\n"
     ]
    }
   ],
   "source": [
    "for topic in topics:\n",
    "    if c[topic]['_typeGroup'] == \"entities\":\n",
    "        print(c[topic]['name'])\n",
    "        print(\"mentioned\",len(c[topic]['instances']),\"times\")\n",
    "        print(c[topic].keys())\n",
    "        print()"
   ]
  },
  {
   "cell_type": "markdown",
   "metadata": {},
   "source": [
    "At this point, the next step is to synthesize these results into a search querry"
   ]
  },
  {
   "cell_type": "code",
   "execution_count": 14,
   "metadata": {},
   "outputs": [],
   "source": [
    "tags = []\n",
    "for topic in topics: \n",
    "    if c[topic]['_typeGroup'] == \"entities\":\n",
    "        new_entity = {}\n",
    "        new_entity['name'] = c[topic]['name']\n",
    "        new_entity['mentions'] = len(c[topic]['instances'])\n",
    "        new_entity['type'] = c[topic]['_type']\n",
    "        if(new_entity['type'] == \"Person\"):\n",
    "#             print(new_entity['name'])\n",
    "            new_entity['commonname'] = c[topic]['commonname']\n",
    "        else:\n",
    "            new_entity['commonname'] = \"\"\n",
    "        tags.append(new_entity)"
   ]
  },
  {
   "cell_type": "code",
   "execution_count": 15,
   "metadata": {},
   "outputs": [],
   "source": [
    "import pandas as pd\n",
    "\n",
    "df = pd.DataFrame(tags)\n",
    "\n",
    "\n",
    "# Select all people who were mentioned more than the mean number of mentions per person\n",
    "POI = list(df[(df[\"type\"] == \"Person\") & (df['mentions'] > df[df['type'] =='Person']['mentions'].mean())]['commonname'])\n",
    "\n",
    "# Do we want to search full names, or just last names?\n",
    "query = \" AND \".join(POI)\n",
    "query = query.replace(\" \", \"%20\")\n",
    "\n",
    "queryURL = \"https://archive.org/details/tv?q=\"+query\n",
    "print(queryURL)"
   ]
  },
  {
   "cell_type": "code",
   "execution_count": 18,
   "metadata": {},
   "outputs": [],
   "source": [
    "# Select all people who were mentioned more than the mean number of mentions per person\n",
    "POI = list(df[(df[\"type\"] == \"Person\") & (df['mentions'] > df[df['type'] =='Person']['mentions'].mean())]['commonname'])"
   ]
  },
  {
   "cell_type": "code",
   "execution_count": 19,
   "metadata": {},
   "outputs": [],
   "source": [
    "# Do we want to search full names, or just last names?\n",
    "query = \" AND \".join(POI)\n",
    "query = query.replace(\" \", \"%20\")"
   ]
  },
  {
   "cell_type": "code",
   "execution_count": 20,
   "metadata": {},
   "outputs": [
    {
     "name": "stdout",
     "output_type": "stream",
     "text": [
      "https://archive.org/details/tv?q=Kris%20Kobach%20AND%20Jeff%20Colyer\n"
     ]
    }
   ],
   "source": [
    "queryURL = \"https://archive.org/details/tv?q=\"+query\n",
    "print(queryURL)"
   ]
  },
  {
   "cell_type": "code",
   "execution_count": null,
   "metadata": {},
   "outputs": [],
   "source": []
  }
 ],
 "metadata": {
  "kernelspec": {
   "display_name": "Python 3",
   "language": "python",
   "name": "python3"
  },
  "language_info": {
   "codemirror_mode": {
    "name": "ipython",
    "version": 3
   },
   "file_extension": ".py",
   "mimetype": "text/x-python",
   "name": "python",
   "nbconvert_exporter": "python",
   "pygments_lexer": "ipython3",
   "version": "3.6.4"
  }
 },
 "nbformat": 4,
 "nbformat_minor": 2
}
