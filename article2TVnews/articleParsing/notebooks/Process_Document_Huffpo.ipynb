{
 "cells": [
  {
   "cell_type": "markdown",
   "metadata": {},
   "source": [
    "# This Project's aim is to recommend a tv-news clip based on a given article using a content filter recommender"
   ]
  },
  {
   "cell_type": "markdown",
   "metadata": {},
   "source": [
    "# Summary of the project:\n",
    "\n",
    "#### Static structure\n",
    "To build this, we will need a DB of the possible recommendations. This will have features such as:\n",
    "- `Title`\n",
    "    - Used to display to user\n",
    "- `entities`\n",
    "    - A vector of the features for each video\n",
    "- `url` \n",
    "    - A link to the full segment\n",
    "    \n",
    "    \n",
    "#### Program\n",
    "1. We will programatically scan an article and parse it for its own entity vector. \n",
    "    - NLP topic modeling needed\n",
    "2. Then we will find cosine dist from the article to each news clip. \n",
    "3. return the 3 closest clips.\n",
    "\n",
    "#### Notes:\n",
    "- Depending on the size of the DB, we probably won't want to go through each entry.  Maybe I can cluster closer clips and return the cluster\n",
    "- Probably want to use components as well. \n",
    "- News sources: BBC, CNN, Fox, RT, MSNBC, Huffpo, the guardian, \n",
    "- opencalais\n",
    "- \n"
   ]
  },
  {
   "cell_type": "markdown",
   "metadata": {},
   "source": [
    "## Imports"
   ]
  },
  {
   "cell_type": "code",
   "execution_count": 1,
   "metadata": {},
   "outputs": [],
   "source": [
    "from sklearn.feature_extraction.text import CountVectorizer\n",
    "import requests\n",
    "from bs4 import BeautifulSoup"
   ]
  },
  {
   "cell_type": "code",
   "execution_count": 2,
   "metadata": {},
   "outputs": [],
   "source": [
    "access_token = \"cvTFhY53VXBYm5HO85weHPx346W05015\"\n",
    "calais_url = 'https://api.thomsonreuters.com/permid/calais'\n",
    "headers = {'X-AG-Access-Token' : access_token, 'Content-Type' : 'text/raw', 'outputformat' : 'application/json'}\n"
   ]
  },
  {
   "cell_type": "markdown",
   "metadata": {},
   "source": [
    "## Scan article\n",
    "- request site\n",
    "    - found this api:https://newsapi.org/\n",
    "        - Can't search individual articles by url as far as I can tell.  Might be worth considering though for multiple news sources\n",
    "        - Doesn't return full article, only title and desc\n",
    "- find relevant info\n",
    "    - http://mallet.cs.umass.edu/index.php\n",
    "    - http://www.opencalais.com/\n",
    "- assemble corpus OR run search on archive.org"
   ]
  },
  {
   "cell_type": "markdown",
   "metadata": {},
   "source": [
    "#### Requests"
   ]
  },
  {
   "cell_type": "code",
   "execution_count": 3,
   "metadata": {},
   "outputs": [
    {
     "data": {
      "text/plain": [
       "200"
      ]
     },
     "execution_count": 3,
     "metadata": {},
     "output_type": "execute_result"
    }
   ],
   "source": [
    "url = 'https://www.huffingtonpost.com/entry/alex-jones-infowars-app-apple-google_us_5b694ec3e4b0de86f4a4bc1d'\n",
    "header = {\"Accept-Encoding\": \"gzip\", \"User-Agent\": \"Mozilla/5.0 (Windows NT 10.0; Win64; x64)\"}\n",
    "res = requests.get(url, headers = header)\n",
    "res.status_code"
   ]
  },
  {
   "cell_type": "code",
   "execution_count": 4,
   "metadata": {},
   "outputs": [],
   "source": [
    "soup = BeautifulSoup(res.content, 'lxml')"
   ]
  },
  {
   "cell_type": "markdown",
   "metadata": {},
   "source": [
    "#### Parse"
   ]
  },
  {
   "cell_type": "code",
   "execution_count": 5,
   "metadata": {},
   "outputs": [
    {
     "data": {
      "text/plain": [
       "\"Alex Jones' Infowars Still Not Banned On App Stores, Instagram And Twitter\""
      ]
     },
     "execution_count": 5,
     "metadata": {},
     "output_type": "execute_result"
    }
   ],
   "source": [
    "title = soup.find(\"h1\", attrs={\"class\":\"headline__title\"}).text\n",
    "title"
   ]
  },
  {
   "cell_type": "code",
   "execution_count": 6,
   "metadata": {},
   "outputs": [
    {
     "data": {
      "text/plain": [
       "'Companies like Spotify and Facebook have taken action, removing Infowars content.'"
      ]
     },
     "execution_count": 6,
     "metadata": {},
     "output_type": "execute_result"
    }
   ],
   "source": [
    "subtitle = soup.find(\"div\", attrs={\"class\":\"headline__subtitle\"}).text\n",
    "subtitle"
   ]
  },
  {
   "cell_type": "code",
   "execution_count": 7,
   "metadata": {},
   "outputs": [
    {
     "data": {
      "text/plain": [
       "'Willa Frej'"
      ]
     },
     "execution_count": 7,
     "metadata": {},
     "output_type": "execute_result"
    }
   ],
   "source": [
    "soup.find(\"a\", attrs={\"class\": \"author-card__link yr-author-name\"}).text"
   ]
  },
  {
   "cell_type": "code",
   "execution_count": 8,
   "metadata": {
    "scrolled": true
   },
   "outputs": [
    {
     "name": "stdout",
     "output_type": "stream",
     "text": [
      "Apple and Google have both removed some Alex Jones content from some of their platforms, but his Infowars app is still available for download in both app stores and his accounts on Twitter and Instagram are still active.\n",
      "\n",
      "Listed under the “News” sections of the iOS App Store and the Google Play store, the Infowars app offers its subscribers livestreams and articles. It’s ranked as high as No. 23 among free news apps on Apple, according to CNN Money.\n",
      "\n",
      "Apple did remove some of Jones’ podcasts from iTunes, while YouTube, which is owned by Google, removed his channel. \n",
      "\n",
      "“Apple does not tolerate hate speech, and we have clear guidelines that creators and developers must follow to ensure we provide a safe environment for all of our users,” the company said in a statement. “Podcasts that violate these guidelines are removed from our directory making them no longer searchable or available for download or streaming. We believe in representing a wide range of views, so long as people are respectful to those with differing opinions.” \n",
      "\n",
      "A growing list of other tech companies ― including Spotify, Facebook, Stitcher and, most recently, LinkedIn and Pinterest ― have removed some of Jones’ content, saying it violated hate speech policies. \n",
      "\n",
      "Yet his accounts on Instagram, Twitter and Periscope (which is owned by Twitter) are still up and running, and several of his movies are still available on Amazon. Twitter said the content didn’t violate its guidelines.\n",
      "\n",
      "\n",
      "Instagram, which is owned by Facebook, did not immediately respond to a request for comment.\n",
      "Jones has responded to the shutdowns by slamming the social media platforms as “lying bullies.” \n",
      "\n",
      "\n",
      "\n",
      "“The war on your mind is in full swing as globalists remove outlets of liberty and truth, starting with the tip of the spear: Alex Jones,” a statement on his website read.\n",
      "Jones also appealed to President Donald Trump for help on Monday, asking him to make a bigger deal of the fact that the globalists and the Chinese were trying to steal the 2018 midterm elections.  \n",
      "“If you come out before the midterms and make the censorship the big issue of them trying to steal the election. And if you make the fact we need an Internet Bill of Rights, and antitrust-busting on these companies, if they don’t back off right now,” Jones said. \n",
      "\n"
     ]
    }
   ],
   "source": [
    "body = \"\\n\\n\".join(list(map(lambda x: x.text, soup.find(\"div\", attrs={\"class\":\"entry__text\"}).find_all(\"div\", attrs={\"class\":\"content-list-component\"}))))\n",
    "print(body)"
   ]
  },
  {
   "cell_type": "code",
   "execution_count": 9,
   "metadata": {},
   "outputs": [
    {
     "name": "stdout",
     "output_type": "stream",
     "text": [
      "status code: 200\n"
     ]
    }
   ],
   "source": [
    "response = requests.post(calais_url, data=body.encode('utf-8'), headers=headers, timeout=80)\n",
    "print ('status code: %s' % response.status_code)\n",
    "content = response.text\n",
    "# print ('Results received: %s' % content)"
   ]
  },
  {
   "cell_type": "code",
   "execution_count": 10,
   "metadata": {},
   "outputs": [],
   "source": [
    "import json\n",
    "\n",
    "c = json.loads(content)\n"
   ]
  },
  {
   "cell_type": "code",
   "execution_count": 19,
   "metadata": {},
   "outputs": [
    {
     "name": "stdout",
     "output_type": "stream",
     "text": [
      "Instagram\n",
      "Pinterest\n",
      "LinkedIn\n",
      "Amazon\n",
      "President\n",
      "iOS App Store\n",
      "SPOTIFY\n",
      "social media platforms\n",
      "Twitter\n",
      "Internet Bill\n",
      "Google\n",
      "YouTube\n",
      "Facebook\n",
      "Alex Jones\n",
      "Donald Trump\n",
      "CNN\n",
      "Google Play store\n",
      "Apple\n"
     ]
    }
   ],
   "source": [
    "for key, value in c.items():\n",
    "    if value.get('_typeGroup') == 'entities':\n",
    "        print(value['name'])"
   ]
  },
  {
   "cell_type": "code",
   "execution_count": 13,
   "metadata": {},
   "outputs": [],
   "source": [
    "topics = list(c.keys())[1:]\n",
    "\n",
    "for topic in topics:\n",
    "    try:\n",
    "        print(c[topic]['name'])\n",
    "        if(c[topic][\"_typeGroup\"] in ['topics', 'socialTag']):\n",
    "            print(\"importance:\", c[topic]['importance'])\n",
    "        else:\n",
    "            print(\"relevance:\", c[topic]['relevance'])\n",
    "    except:\n",
    "        pass\n",
    "    print()"
   ]
  },
  {
   "cell_type": "code",
   "execution_count": 15,
   "metadata": {},
   "outputs": [
    {
     "name": "stdout",
     "output_type": "stream",
     "text": [
      "Technology_Internet\n",
      "{'_typeGroup': 'topics', 'forenduserdisplay': 'false', 'score': 0.957, 'name': 'Technology_Internet'}\n",
      "\n",
      "\n",
      "Software\n",
      "{'_typeGroup': 'socialTag', 'id': 'http://d.opencalais.com/dochash-1/002fcf23-1236-38e4-9fe2-1ec16bb33b4c/SocialTag/1', 'socialTag': 'http://d.opencalais.com/genericHasher-1/16293516-a848-3162-8f98-a310581b027d', 'forenduserdisplay': 'true', 'name': 'Software', 'importance': '1', 'originalValue': 'Software'}\n",
      "\n",
      "Computing\n",
      "{'_typeGroup': 'socialTag', 'id': 'http://d.opencalais.com/dochash-1/002fcf23-1236-38e4-9fe2-1ec16bb33b4c/SocialTag/2', 'socialTag': 'http://d.opencalais.com/genericHasher-1/4f9a3d55-33f5-3738-a2f7-3e9065a5a169', 'forenduserdisplay': 'true', 'name': 'Computing', 'importance': '1', 'originalValue': 'Computing'}\n",
      "\n",
      "Digital media\n",
      "{'_typeGroup': 'socialTag', 'id': 'http://d.opencalais.com/dochash-1/002fcf23-1236-38e4-9fe2-1ec16bb33b4c/SocialTag/3', 'socialTag': 'http://d.opencalais.com/genericHasher-1/771e4d9a-b0cd-37a2-bec6-6840c4cafab3', 'forenduserdisplay': 'true', 'name': 'Digital media', 'importance': '1', 'originalValue': 'Digital media'}\n",
      "\n",
      "Social media\n",
      "{'_typeGroup': 'socialTag', 'id': 'http://d.opencalais.com/dochash-1/002fcf23-1236-38e4-9fe2-1ec16bb33b4c/SocialTag/4', 'socialTag': 'http://d.opencalais.com/genericHasher-1/26585b85-a498-31bb-abc9-70fdd3d7fb7c', 'forenduserdisplay': 'true', 'name': 'Social media', 'importance': '2', 'originalValue': 'Social media'}\n",
      "\n",
      "Social networking services\n",
      "{'_typeGroup': 'socialTag', 'id': 'http://d.opencalais.com/dochash-1/002fcf23-1236-38e4-9fe2-1ec16bb33b4c/SocialTag/5', 'socialTag': 'http://d.opencalais.com/genericHasher-1/2021b3a9-eeac-3890-98ce-6367a7a57c7d', 'forenduserdisplay': 'true', 'name': 'Social networking services', 'importance': '2', 'originalValue': 'Social networking services'}\n",
      "\n",
      "Universal Windows Platform apps\n",
      "{'_typeGroup': 'socialTag', 'id': 'http://d.opencalais.com/dochash-1/002fcf23-1236-38e4-9fe2-1ec16bb33b4c/SocialTag/6', 'socialTag': 'http://d.opencalais.com/genericHasher-1/03a060f0-38ee-3f7d-9a8b-ddd525e757f7', 'forenduserdisplay': 'true', 'name': 'Universal Windows Platform apps', 'importance': '2', 'originalValue': 'Universal Windows Platform apps'}\n",
      "\n",
      "Photo sharing\n",
      "{'_typeGroup': 'socialTag', 'id': 'http://d.opencalais.com/dochash-1/002fcf23-1236-38e4-9fe2-1ec16bb33b4c/SocialTag/7', 'socialTag': 'http://d.opencalais.com/genericHasher-1/37265ce8-0e57-377a-b088-9ec4d1a5e30e', 'forenduserdisplay': 'true', 'name': 'Photo sharing', 'importance': '2', 'originalValue': 'Photo sharing'}\n",
      "\n",
      "E-commerce\n",
      "{'_typeGroup': 'socialTag', 'id': 'http://d.opencalais.com/dochash-1/002fcf23-1236-38e4-9fe2-1ec16bb33b4c/SocialTag/8', 'socialTag': 'http://d.opencalais.com/genericHasher-1/55c4fa6b-02ac-3970-964f-ce38d6d583e4', 'forenduserdisplay': 'true', 'name': 'E-commerce', 'importance': '2', 'originalValue': 'E-commerce'}\n",
      "\n",
      "Instagram\n",
      "{'_typeGroup': 'socialTag', 'id': 'http://d.opencalais.com/dochash-1/002fcf23-1236-38e4-9fe2-1ec16bb33b4c/SocialTag/9', 'socialTag': 'http://d.opencalais.com/genericHasher-1/ab63b26b-ec99-34a0-8f6a-1d7c1c54a6c9', 'forenduserdisplay': 'true', 'name': 'Instagram', 'importance': '2', 'originalValue': 'Instagram'}\n",
      "\n",
      "InfoWars\n",
      "{'_typeGroup': 'socialTag', 'id': 'http://d.opencalais.com/dochash-1/002fcf23-1236-38e4-9fe2-1ec16bb33b4c/SocialTag/10', 'socialTag': 'http://d.opencalais.com/genericHasher-1/93a7d8a8-da53-30b0-8fe8-a3ca907ddcde', 'forenduserdisplay': 'true', 'name': 'InfoWars', 'importance': '2', 'originalValue': 'InfoWars'}\n",
      "\n",
      "Stitcher Radio\n",
      "{'_typeGroup': 'socialTag', 'id': 'http://d.opencalais.com/dochash-1/002fcf23-1236-38e4-9fe2-1ec16bb33b4c/SocialTag/11', 'socialTag': 'http://d.opencalais.com/genericHasher-1/92cfc040-f5e6-3357-ade6-c4951d665c7c', 'forenduserdisplay': 'true', 'name': 'Stitcher Radio', 'importance': '2', 'originalValue': 'Stitcher Radio'}\n",
      "\n",
      "Facebook\n",
      "{'_typeGroup': 'socialTag', 'id': 'http://d.opencalais.com/dochash-1/002fcf23-1236-38e4-9fe2-1ec16bb33b4c/SocialTag/12', 'socialTag': 'http://d.opencalais.com/genericHasher-1/b4f3a1a1-a94a-380c-8fb6-7d61fd802b3d', 'forenduserdisplay': 'true', 'name': 'Facebook', 'importance': '2', 'originalValue': 'Facebook'}\n",
      "\n",
      "Broadcasting - NEC\n",
      "{'_typeGroup': 'industry', 'forenduserdisplay': 'false', 'name': 'Broadcasting - NEC', 'rcscode': 'B:1446', 'permid': '4294951555', 'relevance': 0}\n",
      "\n",
      "Internet & Mail Order Department Stores\n",
      "{'_typeGroup': 'industry', 'forenduserdisplay': 'false', 'name': 'Internet & Mail Order Department Stores', 'rcscode': 'B:1467', 'permid': '4294951534', 'relevance': 0}\n",
      "\n",
      "Phones & Smart Phones\n",
      "{'_typeGroup': 'industry', 'forenduserdisplay': 'false', 'name': 'Phones & Smart Phones', 'rcscode': 'B:1769', 'permid': '4294951232', 'relevance': 0.5}\n",
      "\n",
      "Social Media & Networking\n",
      "{'_typeGroup': 'industry', 'forenduserdisplay': 'false', 'name': 'Social Media & Networking', 'rcscode': 'B:1806', 'permid': '4294951195', 'relevance': 0.2}\n",
      "\n",
      "Search Engines\n",
      "{'_typeGroup': 'industry', 'forenduserdisplay': 'false', 'name': 'Search Engines', 'rcscode': 'B:1805', 'permid': '4294951196', 'relevance': 0.2}\n",
      "\n",
      "Software - NEC\n",
      "{'_typeGroup': 'industry', 'forenduserdisplay': 'false', 'name': 'Software - NEC', 'rcscode': 'B:1796', 'permid': '4294951205', 'relevance': 0}\n",
      "\n",
      "Internet Services - NEC\n",
      "{'_typeGroup': 'industry', 'forenduserdisplay': 'false', 'name': 'Internet Services - NEC', 'rcscode': 'B:1804', 'permid': '4294951197', 'relevance': 0.2}\n",
      "\n",
      "\n",
      "Instagram\n",
      "{'_typeGroup': 'entities', '_type': 'Company', 'forenduserdisplay': 'false', 'name': 'Instagram', 'nationality': 'N/A', 'confidencelevel': '0.795', 'recognizedas': 'name', '_typeReference': 'http://s.opencalais.com/1/type/em/e/Company', 'instances': [{'detection': '[both app stores and his accounts on Twitter and ]Instagram[ are still active.\\n\\nListed under the “News”]', 'prefix': 'both app stores and his accounts on Twitter and ', 'exact': 'Instagram', 'suffix': ' are still active.\\n\\nListed under the “News”', 'offset': 193, 'length': 9}, {'detection': '[hate speech policies. \\n\\nYet his accounts on ]Instagram[, Twitter and Periscope (which is owned by]', 'prefix': 'hate speech policies. \\n\\nYet his accounts on ', 'exact': 'Instagram', 'suffix': ', Twitter and Periscope (which is owned by', 'offset': 1265, 'length': 9}, {'detection': '[the content didn’t violate its guidelines.\\n\\n\\n]Instagram[, which is owned by Facebook, did not immediately]', 'prefix': 'the content didn’t violate its guidelines.\\n\\n\\n', 'exact': 'Instagram', 'suffix': ', which is owned by Facebook, did not immediately', 'offset': 1467, 'length': 9}], 'relevance': 0, 'resolutions': [{'name': 'INSTAGRAM, INC.', 'permid': '5037430461', 'ispublic': 'false', 'commonname': 'Instagram', 'score': 0.17043427, 'id': 'https://permid.org/1-5037430461'}], 'confidence': {'statisticalfeature': '0.922', 'dblookup': '0.0', 'resolution': '0.17043427', 'aggregate': '0.795'}}\n",
      "mentioned 3 times\n",
      "\n",
      "Pinterest\n",
      "{'_typeGroup': 'entities', '_type': 'Company', 'forenduserdisplay': 'true', 'name': 'Pinterest', 'nationality': 'N/A', 'confidencelevel': '1.0', 'recognizedas': 'name', '_typeReference': 'http://s.opencalais.com/1/type/em/e/Company', 'instances': [{'detection': '[Stitcher and, most recently, LinkedIn and ]Pinterest[ ― have removed some of Jones’ content, saying it]', 'prefix': 'Stitcher and, most recently, LinkedIn and ', 'exact': 'Pinterest', 'suffix': ' ― have removed some of Jones’ content, saying it', 'offset': 1153, 'length': 9}], 'relevance': 0.2, 'confidence': {'statisticalfeature': '0.916', 'dblookup': '0.0', 'resolution': '0.07729884', 'aggregate': '1.0'}, 'resolutions': [{'name': 'COLD BREAW LABS INC.', 'permid': '5036190505', 'ispublic': 'false', 'commonname': 'Pinterest', 'score': 0.07729884, 'id': 'https://permid.org/1-5036190505'}]}\n",
      "mentioned 1 times\n",
      "\n",
      "LinkedIn\n",
      "{'_typeGroup': 'entities', '_type': 'Company', 'forenduserdisplay': 'true', 'name': 'LinkedIn', 'nationality': 'N/A', 'confidencelevel': '1.0', 'recognizedas': 'name', 'resolutions': [{'name': 'LINKEDIN CORPORATION', 'permid': '4296977663', 'ispublic': 'false', 'commonname': 'LnkIn Corp', 'score': 0.67992806, 'id': 'https://permid.org/1-4296977663', 'ticker': 'LNKD'}], '_typeReference': 'http://s.opencalais.com/1/type/em/e/Company', 'instances': [{'detection': '[Spotify, Facebook, Stitcher and, most recently, ]LinkedIn[ and Pinterest ― have removed some of Jones’]', 'prefix': 'Spotify, Facebook, Stitcher and, most recently, ', 'exact': 'LinkedIn', 'suffix': ' and Pinterest ― have removed some of Jones’', 'offset': 1140, 'length': 8}], 'relevance': 0.2, 'confidence': {'statisticalfeature': '0.905', 'dblookup': '0.0', 'resolution': '0.67992806', 'aggregate': '1.0'}}\n",
      "mentioned 1 times\n",
      "\n",
      "Amazon\n",
      "{'_typeGroup': 'entities', '_type': 'Company', 'forenduserdisplay': 'true', 'name': 'Amazon', 'nationality': 'N/A', 'confidencelevel': '0.993', 'recognizedas': 'name', 'confidence': {'statisticalfeature': '0.905', 'dblookup': '0.0', 'resolution': '0.99360967', 'aggregate': '0.993'}, '_typeReference': 'http://s.opencalais.com/1/type/em/e/Company', 'instances': [{'detection': '[ and several of his movies are still available on ]Amazon[. Twitter said the content didn’t violate its]', 'prefix': ' and several of his movies are still available on ', 'exact': 'Amazon', 'suffix': '. Twitter said the content didn’t violate its', 'offset': 1401, 'length': 6}], 'relevance': 0, 'resolutions': [{'name': 'AMAZON.COM, INC.', 'permid': '4295905494', 'primaryric': 'AMZN.OQ', 'ispublic': 'true', 'commonname': 'Amazon.com', 'score': 0.99360967, 'id': 'https://permid.org/1-4295905494', 'ticker': 'AMZN'}]}\n",
      "mentioned 1 times\n",
      "\n",
      "President\n",
      "{'_typeGroup': 'entities', '_type': 'Position', 'forenduserdisplay': 'false', 'name': 'President', '_typeReference': 'http://s.opencalais.com/1/type/em/e/Position', 'instances': [{'detection': '[on his website read.\\nJones also appealed to ]President[ Donald Trump for help on Monday, asking him to]', 'prefix': 'on his website read.\\nJones also appealed to ', 'exact': 'President', 'suffix': ' Donald Trump for help on Monday, asking him to', 'offset': 1855, 'length': 9}], 'relevance': 0.2}\n",
      "mentioned 1 times\n",
      "\n",
      "iOS App Store\n",
      "{'_typeGroup': 'entities', '_type': 'Facility', 'forenduserdisplay': 'false', 'name': 'iOS App Store', '_typeReference': 'http://s.opencalais.com/1/type/em/e/Facility', 'instances': [{'detection': '[ active.\\n\\nListed under the “News” sections of the ]iOS App Store[ and the Google Play store, the Infowars app]', 'prefix': ' active.\\n\\nListed under the “News” sections of the ', 'exact': 'iOS App Store', 'suffix': ' and the Google Play store, the Infowars app', 'offset': 262, 'length': 13}], 'relevance': 0.2}\n",
      "mentioned 1 times\n",
      "\n",
      "SPOTIFY\n",
      "{'_typeGroup': 'entities', '_type': 'Company', 'forenduserdisplay': 'true', 'name': 'SPOTIFY', 'confidencelevel': '1.0', 'recognizedas': 'name', 'resolutions': [{'name': 'SPOTIFY TECHNOLOGY S.A.', 'permid': '5037833896', 'primaryric': 'SPOT.N', 'ispublic': 'true', 'commonname': 'Spotify Tech', 'score': 1, 'id': 'https://permid.org/1-5037833896', 'ticker': 'SPOT'}], '_typeReference': 'http://s.opencalais.com/1/type/em/e/Company', 'instances': [{'detection': '[ growing list of other tech companies ― including ]Spotify[, Facebook, Stitcher and, most recently, LinkedIn]', 'prefix': ' growing list of other tech companies ― including ', 'exact': 'Spotify', 'suffix': ', Facebook, Stitcher and, most recently, LinkedIn', 'offset': 1092, 'length': 7}], 'relevance': 0, 'confidence': {'statisticalfeature': '0.644', 'dblookup': '0.0', 'resolution': '1.0', 'aggregate': '1.0'}}\n",
      "mentioned 1 times\n",
      "\n",
      "social media platforms\n",
      "{'_typeGroup': 'entities', '_type': 'IndustryTerm', 'forenduserdisplay': 'false', 'name': 'social media platforms', '_typeReference': 'http://s.opencalais.com/1/type/em/e/IndustryTerm', 'instances': [{'detection': '[has responded to the shutdowns by slamming the ]social media platforms[ as “lying bullies.” \\n\\n\\n\\n“The war on your mind is]', 'prefix': 'has responded to the shutdowns by slamming the ', 'exact': 'social media platforms', 'suffix': ' as “lying bullies.” \\n\\n\\n\\n“The war on your mind is', 'offset': 1613, 'length': 22}], 'relevance': 0.2}\n",
      "mentioned 1 times\n",
      "\n",
      "Twitter\n",
      "{'_typeGroup': 'entities', '_type': 'Company', 'forenduserdisplay': 'true', 'name': 'Twitter', 'nationality': 'N/A', 'confidencelevel': '0.966', 'recognizedas': 'name', '_typeReference': 'http://s.opencalais.com/1/type/em/e/Company', 'instances': [{'detection': '[download in both app stores and his accounts on ]Twitter[ and Instagram are still active.\\n\\nListed under]', 'prefix': 'download in both app stores and his accounts on ', 'exact': 'Twitter', 'suffix': ' and Instagram are still active.\\n\\nListed under', 'offset': 181, 'length': 7}, {'detection': '[policies. \\n\\nYet his accounts on Instagram, ]Twitter[ and Periscope (which is owned by Twitter) are]', 'prefix': 'policies. \\n\\nYet his accounts on Instagram, ', 'exact': 'Twitter', 'suffix': ' and Periscope (which is owned by Twitter) are', 'offset': 1276, 'length': 7}, {'detection': '[Twitter and Periscope (which is owned by ]Twitter[) are still up and running, and several of his]', 'prefix': 'Twitter and Periscope (which is owned by ', 'exact': 'Twitter', 'suffix': ') are still up and running, and several of his', 'offset': 1317, 'length': 7}, {'detection': '[of his movies are still available on Amazon. ]Twitter[ said the content didn’t violate its]', 'prefix': 'of his movies are still available on Amazon. ', 'exact': 'Twitter', 'suffix': ' said the content didn’t violate its', 'offset': 1409, 'length': 7}], 'relevance': 0, 'confidence': {'statisticalfeature': '0.956', 'dblookup': '0.0', 'resolution': '0.9876603', 'aggregate': '0.966'}, 'resolutions': [{'name': 'TWITTER, INC.', 'permid': '4296301199', 'primaryric': 'TWTR.N', 'ispublic': 'true', 'commonname': 'Twitter', 'score': 0.9876603, 'id': 'https://permid.org/1-4296301199', 'ticker': 'TWTR'}]}\n",
      "mentioned 4 times\n",
      "\n",
      "Internet Bill\n",
      "{'_typeGroup': 'entities', '_type': 'IndustryTerm', 'forenduserdisplay': 'false', 'name': 'Internet Bill', '_typeReference': 'http://s.opencalais.com/1/type/em/e/IndustryTerm', 'instances': [{'detection': '[election. And if you make the fact we need an ]Internet Bill[ of Rights, and antitrust-busting on these]', 'prefix': 'election. And if you make the fact we need an ', 'exact': 'Internet Bill', 'suffix': ' of Rights, and antitrust-busting on these', 'offset': 2179, 'length': 13}], 'relevance': 0.2}\n",
      "mentioned 1 times\n",
      "\n",
      "Google\n",
      "{'_typeGroup': 'entities', '_type': 'Company', 'forenduserdisplay': 'true', 'name': 'Google', 'confidencelevel': '0.999', 'recognizedas': 'name', '_typeReference': 'http://s.opencalais.com/1/type/em/e/Company', 'instances': [{'detection': '[Apple and ]Google[ have both removed some Alex Jones content from]', 'prefix': 'Apple and ', 'exact': 'Google', 'suffix': ' have both removed some Alex Jones content from', 'offset': 10, 'length': 6}, {'detection': '[from iTunes, while YouTube, which is owned by ]Google[, removed his channel. \\n\\n“Apple does not tolerate]', 'prefix': 'from iTunes, while YouTube, which is owned by ', 'exact': 'Google', 'suffix': ', removed his channel. \\n\\n“Apple does not tolerate', 'offset': 542, 'length': 6}], 'relevance': 0.2, 'confidence': {'statisticalfeature': '0.71', 'dblookup': '0.0', 'resolution': '1.0', 'aggregate': '0.999'}, 'resolutions': [{'name': 'GOOGLE LLC', 'permid': '4295899948', 'ispublic': 'false', 'commonname': 'Google', 'score': 1, 'id': 'https://permid.org/1-4295899948'}]}\n",
      "mentioned 2 times\n",
      "\n",
      "YouTube\n",
      "{'_typeGroup': 'entities', '_type': 'Company', 'forenduserdisplay': 'true', 'name': 'YouTube', 'nationality': 'N/A', 'confidencelevel': '0.994', 'recognizedas': 'name', 'confidence': {'statisticalfeature': '0.905', 'dblookup': '0.0', 'resolution': '0.18957536', 'aggregate': '0.994'}, 'resolutions': [{'name': 'YouTube, LLC', 'permid': '4297403627', 'ispublic': 'false', 'commonname': 'YouTube, LLC', 'score': 0.18957536, 'id': 'https://permid.org/1-4297403627'}], '_typeReference': 'http://s.opencalais.com/1/type/em/e/Company', 'instances': [{'detection': '[some of Jones’ podcasts from iTunes, while ]YouTube[, which is owned by Google, removed his channel.]', 'prefix': 'some of Jones’ podcasts from iTunes, while ', 'exact': 'YouTube', 'suffix': ', which is owned by Google, removed his channel.', 'offset': 515, 'length': 7}], 'relevance': 0.2}\n",
      "mentioned 1 times\n",
      "\n",
      "Facebook\n",
      "{'_typeGroup': 'entities', '_type': 'Company', 'forenduserdisplay': 'true', 'name': 'Facebook', 'nationality': 'N/A', 'confidencelevel': '0.995', 'recognizedas': 'name', 'confidence': {'statisticalfeature': '0.933', 'dblookup': '0.0', 'resolution': '0.9931863', 'aggregate': '0.995'}, '_typeReference': 'http://s.opencalais.com/1/type/em/e/Company', 'instances': [{'detection': '[of other tech companies ― including Spotify, ]Facebook[, Stitcher and, most recently, LinkedIn and]', 'prefix': 'of other tech companies ― including Spotify, ', 'exact': 'Facebook', 'suffix': ', Stitcher and, most recently, LinkedIn and', 'offset': 1101, 'length': 8}, {'detection': '[its guidelines.\\n\\n\\nInstagram, which is owned by ]Facebook[, did not immediately respond to a request for]', 'prefix': 'its guidelines.\\n\\n\\nInstagram, which is owned by ', 'exact': 'Facebook', 'suffix': ', did not immediately respond to a request for', 'offset': 1496, 'length': 8}], 'relevance': 0.2, 'resolutions': [{'name': 'FACEBOOK, INC.', 'permid': '4297297477', 'primaryric': 'FB.OQ', 'ispublic': 'true', 'commonname': 'Facebook', 'score': 0.9931863, 'id': 'https://permid.org/1-4297297477', 'ticker': 'FB'}]}\n",
      "mentioned 2 times\n",
      "\n",
      "Alex Jones\n",
      "{'_typeGroup': 'entities', '_type': 'Person', 'forenduserdisplay': 'true', 'name': 'Alex Jones', 'persontype': 'N/A', 'nationality': 'N/A', 'confidencelevel': '0.998', 'firstname': 'Alex', 'lastname': 'Jones', 'commonname': 'Alex Jones', 'confidence': {'statisticalfeature': '0.984', 'dblookup': '0.95', 'resolution': '0.0', 'aggregate': '0.998'}, '_typeReference': 'http://s.opencalais.com/1/type/em/e/Person', 'permid': 'https://permid.org/1-404011', 'instances': [{'detection': '[and Google have both removed some ]Alex Jones[ content from some of their platforms, but his]', 'prefix': 'and Google have both removed some ', 'exact': 'Alex Jones', 'suffix': ' content from some of their platforms, but his', 'offset': 40, 'length': 10}, {'detection': '[Jones content from some of their platforms, but ]his[ Infowars app is still available for download in]', 'prefix': 'Jones content from some of their platforms, but ', 'exact': 'his', 'suffix': ' Infowars app is still available for download in', 'offset': 93, 'length': 3}, {'detection': '[available for download in both app stores and ]his[ accounts on Twitter and Instagram are still]', 'prefix': 'available for download in both app stores and ', 'exact': 'his', 'suffix': ' accounts on Twitter and Instagram are still', 'offset': 165, 'length': 3}, {'detection': '[to CNN Money.\\n\\nApple did remove some of ]Jones[’ podcasts from iTunes, while YouTube, which is]', 'prefix': 'to CNN Money.\\n\\nApple did remove some of ', 'exact': 'Jones', 'suffix': '’ podcasts from iTunes, while YouTube, which is', 'offset': 480, 'length': 5}, {'detection': '[ while YouTube, which is owned by Google, removed ]his[ channel. \\n\\n“Apple does not tolerate hate speech,]', 'prefix': ' while YouTube, which is owned by Google, removed ', 'exact': 'his', 'suffix': ' channel. \\n\\n“Apple does not tolerate hate speech,', 'offset': 558, 'length': 3}, {'detection': '[LinkedIn and Pinterest ― have removed some of ]Jones[’ content, saying it violated hate speech]', 'prefix': 'LinkedIn and Pinterest ― have removed some of ', 'exact': 'Jones', 'suffix': '’ content, saying it violated hate speech', 'offset': 1186, 'length': 5}, {'detection': '[saying it violated hate speech policies. \\n\\nYet ]his[ accounts on Instagram, Twitter and Periscope]', 'prefix': 'saying it violated hate speech policies. \\n\\nYet ', 'exact': 'his', 'suffix': ' accounts on Instagram, Twitter and Periscope', 'offset': 1249, 'length': 3}, {'detection': '[are still up and running, and several of ]his[ movies are still available on Amazon. Twitter]', 'prefix': 'are still up and running, and several of ', 'exact': 'his', 'suffix': ' movies are still available on Amazon. Twitter', 'offset': 1367, 'length': 3}, {'detection': '[immediately respond to a request for comment.\\n]Jones[ has responded to the shutdowns by slamming the]', 'prefix': 'immediately respond to a request for comment.\\n', 'exact': 'Jones', 'suffix': ' has responded to the shutdowns by slamming the', 'offset': 1560, 'length': 5}, {'detection': '[and truth, starting with the tip of the spear: ]Alex Jones[,” a statement on his website read.\\nJones also]', 'prefix': 'and truth, starting with the tip of the spear: ', 'exact': 'Alex Jones', 'suffix': ',” a statement on his website read.\\nJones also', 'offset': 1786, 'length': 10}, {'detection': '[tip of the spear: Alex Jones,” a statement on ]his[ website read.\\nJones also appealed to President]', 'prefix': 'tip of the spear: Alex Jones,” a statement on ', 'exact': 'his', 'suffix': ' website read.\\nJones also appealed to President', 'offset': 1814, 'length': 3}, {'detection': '[Alex Jones,” a statement on his website read.\\n]Jones[ also appealed to President Donald Trump for help]', 'prefix': 'Alex Jones,” a statement on his website read.\\n', 'exact': 'Jones', 'suffix': ' also appealed to President Donald Trump for help', 'offset': 1832, 'length': 5}, {'detection': '[Donald Trump for help on Monday, asking ]him[ to make a bigger deal of the fact that the]', 'prefix': 'Donald Trump for help on Monday, asking ', 'exact': 'him', 'suffix': ' to make a bigger deal of the fact that the', 'offset': 1905, 'length': 3}, {'detection': '[companies, if they don’t back off right now,” ]Jones[ said. \\n]', 'prefix': 'companies, if they don’t back off right now,” ', 'exact': 'Jones', 'suffix': ' said. \\n', 'offset': 2281, 'length': 5}], 'relevance': 0.8}\n",
      "mentioned 14 times\n",
      "\n",
      "Donald Trump\n",
      "{'_typeGroup': 'entities', '_type': 'Person', 'forenduserdisplay': 'true', 'name': 'Donald Trump', 'persontype': 'N/A', 'nationality': 'N/A', 'confidencelevel': '0.999', 'firstname': 'Donald', 'lastname': 'Trump', 'commonname': 'Donald Trump', 'resolutions': [{'name': 'Donald John Trump', 'personid': '55206', 'paid': '34413176227', 'officerid': ['1309208', '55206', '650373'], 'commonname': 'Donald Trump', 'score': 0.86198765}], 'confidence': {'statisticalfeature': '0.999', 'dblookup': '0.95', 'resolution': '0.86198765', 'aggregate': '0.999'}, '_typeReference': 'http://s.opencalais.com/1/type/em/e/Person', 'permid': 'https://permid.org/1-404011', 'instances': [{'detection': '[website read.\\nJones also appealed to President ]Donald Trump[ for help on Monday, asking him to make a bigger]', 'prefix': 'website read.\\nJones also appealed to President ', 'exact': 'Donald Trump', 'suffix': ' for help on Monday, asking him to make a bigger', 'offset': 1865, 'length': 12}], 'relevance': 0.2}\n",
      "mentioned 1 times\n",
      "\n",
      "CNN\n",
      "{'_typeGroup': 'entities', '_type': 'Company', 'forenduserdisplay': 'false', 'name': 'CNN', 'nationality': 'N/A', 'confidencelevel': '0.89', 'recognizedas': 'name', 'resolutions': [{'name': 'CABLE NEWS NETWORK, INC.', 'permid': '4298210469', 'ispublic': 'false', 'commonname': 'CNN', 'score': 1, 'id': 'https://permid.org/1-4298210469'}], 'confidence': {'statisticalfeature': '0.799', 'dblookup': '0.0', 'resolution': '1.0', 'aggregate': '0.89'}, '_typeReference': 'http://s.opencalais.com/1/type/em/e/Company', 'instances': [{'detection': '[23 among free news apps on Apple, according to ]CNN[ Money.\\n\\nApple did remove some of Jones’ podcasts]', 'prefix': '23 among free news apps on Apple, according to ', 'exact': 'CNN', 'suffix': ' Money.\\n\\nApple did remove some of Jones’ podcasts', 'offset': 443, 'length': 3}], 'relevance': 0}\n",
      "mentioned 1 times\n",
      "\n",
      "Google Play store\n",
      "{'_typeGroup': 'entities', '_type': 'Facility', 'forenduserdisplay': 'false', 'name': 'Google Play store', '_typeReference': 'http://s.opencalais.com/1/type/em/e/Facility', 'instances': [{'detection': '[ the “News” sections of the iOS App Store and the ]Google Play store[, the Infowars app offers its subscribers]', 'prefix': ' the “News” sections of the iOS App Store and the ', 'exact': 'Google Play store', 'suffix': ', the Infowars app offers its subscribers', 'offset': 284, 'length': 17}], 'relevance': 0.2}\n",
      "mentioned 1 times\n",
      "\n",
      "Apple\n",
      "{'_typeGroup': 'entities', '_type': 'Company', 'forenduserdisplay': 'true', 'name': 'Apple', 'nationality': 'N/A', 'confidencelevel': '1.0', 'recognizedas': 'name', 'resolutions': [{'name': 'APPLE INC.', 'permid': '4295905573', 'primaryric': 'AAPL.OQ', 'ispublic': 'true', 'commonname': 'Apple', 'score': 0.9945767, 'id': 'https://permid.org/1-4295905573', 'ticker': 'AAPL'}], 'confidence': {'statisticalfeature': '0.956', 'dblookup': '0.0', 'resolution': '0.9945767', 'aggregate': '1.0'}, '_typeReference': 'http://s.opencalais.com/1/type/em/e/Company', 'instances': [{'detection': '[]Apple[ and Google have both removed some Alex Jones]', 'exact': 'Apple', 'suffix': ' and Google have both removed some Alex Jones', 'offset': 0, 'length': 5}, {'detection': '[ ranked as high as No. 23 among free news apps on ]Apple[, according to CNN Money.\\n\\nApple did remove some]', 'prefix': ' ranked as high as No. 23 among free news apps on ', 'exact': 'Apple', 'suffix': ', according to CNN Money.\\n\\nApple did remove some', 'offset': 423, 'length': 5}, {'detection': '[news apps on Apple, according to CNN Money.\\n\\n]Apple[ did remove some of Jones’ podcasts from iTunes,]', 'prefix': 'news apps on Apple, according to CNN Money.\\n\\n', 'exact': 'Apple', 'suffix': ' did remove some of Jones’ podcasts from iTunes,', 'offset': 455, 'length': 5}, {'detection': '[is owned by Google, removed his channel. \\n\\n“]Apple[ does not tolerate hate speech, and we have clear]', 'prefix': 'is owned by Google, removed his channel. \\n\\n“', 'exact': 'Apple', 'suffix': ' does not tolerate hate speech, and we have clear', 'offset': 574, 'length': 5}], 'relevance': 0.5}\n",
      "mentioned 4 times\n",
      "\n",
      "\n",
      "\n",
      "\n",
      "\n"
     ]
    }
   ],
   "source": [
    "for topic in topics:\n",
    "    try:\n",
    "        print(c[topic]['name'])\n",
    "        print(c[topic])\n",
    "        print(\"mentioned\",len(c[topic]['instances']),\"times\")\n",
    "        \n",
    "\n",
    "    except:\n",
    "        pass\n",
    "    print()"
   ]
  },
  {
   "cell_type": "markdown",
   "metadata": {},
   "source": [
    "At this point, the next step is to synthesize these results into a search querry"
   ]
  },
  {
   "cell_type": "code",
   "execution_count": 20,
   "metadata": {},
   "outputs": [],
   "source": [
    "tags = []\n",
    "for key, value in c.items(): \n",
    "    if value.get('_typeGroup') == \"entities\":\n",
    "        new_entity = {}\n",
    "        new_entity['name'] = value['name']\n",
    "        new_entity['mentions'] = len(value['instances'])\n",
    "        new_entity['type'] = value['_type']\n",
    "        if(new_entity['type'] == \"Person\"):\n",
    "#             print(new_entity['name'])\n",
    "            new_entity['commonname'] = value['commonname']\n",
    "        else:\n",
    "            new_entity['commonname'] = \"\"\n",
    "        tags.append(new_entity)"
   ]
  },
  {
   "cell_type": "code",
   "execution_count": 21,
   "metadata": {},
   "outputs": [
    {
     "data": {
      "text/html": [
       "<div>\n",
       "<style scoped>\n",
       "    .dataframe tbody tr th:only-of-type {\n",
       "        vertical-align: middle;\n",
       "    }\n",
       "\n",
       "    .dataframe tbody tr th {\n",
       "        vertical-align: top;\n",
       "    }\n",
       "\n",
       "    .dataframe thead th {\n",
       "        text-align: right;\n",
       "    }\n",
       "</style>\n",
       "<table border=\"1\" class=\"dataframe\">\n",
       "  <thead>\n",
       "    <tr style=\"text-align: right;\">\n",
       "      <th></th>\n",
       "      <th>commonname</th>\n",
       "      <th>mentions</th>\n",
       "      <th>name</th>\n",
       "      <th>type</th>\n",
       "    </tr>\n",
       "  </thead>\n",
       "  <tbody>\n",
       "    <tr>\n",
       "      <th>0</th>\n",
       "      <td></td>\n",
       "      <td>3</td>\n",
       "      <td>Instagram</td>\n",
       "      <td>Company</td>\n",
       "    </tr>\n",
       "    <tr>\n",
       "      <th>1</th>\n",
       "      <td></td>\n",
       "      <td>1</td>\n",
       "      <td>Pinterest</td>\n",
       "      <td>Company</td>\n",
       "    </tr>\n",
       "    <tr>\n",
       "      <th>2</th>\n",
       "      <td></td>\n",
       "      <td>1</td>\n",
       "      <td>LinkedIn</td>\n",
       "      <td>Company</td>\n",
       "    </tr>\n",
       "    <tr>\n",
       "      <th>3</th>\n",
       "      <td></td>\n",
       "      <td>1</td>\n",
       "      <td>Amazon</td>\n",
       "      <td>Company</td>\n",
       "    </tr>\n",
       "    <tr>\n",
       "      <th>4</th>\n",
       "      <td></td>\n",
       "      <td>1</td>\n",
       "      <td>President</td>\n",
       "      <td>Position</td>\n",
       "    </tr>\n",
       "    <tr>\n",
       "      <th>5</th>\n",
       "      <td></td>\n",
       "      <td>1</td>\n",
       "      <td>iOS App Store</td>\n",
       "      <td>Facility</td>\n",
       "    </tr>\n",
       "    <tr>\n",
       "      <th>6</th>\n",
       "      <td></td>\n",
       "      <td>1</td>\n",
       "      <td>SPOTIFY</td>\n",
       "      <td>Company</td>\n",
       "    </tr>\n",
       "    <tr>\n",
       "      <th>7</th>\n",
       "      <td></td>\n",
       "      <td>1</td>\n",
       "      <td>social media platforms</td>\n",
       "      <td>IndustryTerm</td>\n",
       "    </tr>\n",
       "    <tr>\n",
       "      <th>8</th>\n",
       "      <td></td>\n",
       "      <td>4</td>\n",
       "      <td>Twitter</td>\n",
       "      <td>Company</td>\n",
       "    </tr>\n",
       "    <tr>\n",
       "      <th>9</th>\n",
       "      <td></td>\n",
       "      <td>1</td>\n",
       "      <td>Internet Bill</td>\n",
       "      <td>IndustryTerm</td>\n",
       "    </tr>\n",
       "    <tr>\n",
       "      <th>10</th>\n",
       "      <td></td>\n",
       "      <td>2</td>\n",
       "      <td>Google</td>\n",
       "      <td>Company</td>\n",
       "    </tr>\n",
       "    <tr>\n",
       "      <th>11</th>\n",
       "      <td></td>\n",
       "      <td>1</td>\n",
       "      <td>YouTube</td>\n",
       "      <td>Company</td>\n",
       "    </tr>\n",
       "    <tr>\n",
       "      <th>12</th>\n",
       "      <td></td>\n",
       "      <td>2</td>\n",
       "      <td>Facebook</td>\n",
       "      <td>Company</td>\n",
       "    </tr>\n",
       "    <tr>\n",
       "      <th>13</th>\n",
       "      <td>Alex Jones</td>\n",
       "      <td>14</td>\n",
       "      <td>Alex Jones</td>\n",
       "      <td>Person</td>\n",
       "    </tr>\n",
       "    <tr>\n",
       "      <th>14</th>\n",
       "      <td>Donald Trump</td>\n",
       "      <td>1</td>\n",
       "      <td>Donald Trump</td>\n",
       "      <td>Person</td>\n",
       "    </tr>\n",
       "    <tr>\n",
       "      <th>15</th>\n",
       "      <td></td>\n",
       "      <td>1</td>\n",
       "      <td>CNN</td>\n",
       "      <td>Company</td>\n",
       "    </tr>\n",
       "    <tr>\n",
       "      <th>16</th>\n",
       "      <td></td>\n",
       "      <td>1</td>\n",
       "      <td>Google Play store</td>\n",
       "      <td>Facility</td>\n",
       "    </tr>\n",
       "    <tr>\n",
       "      <th>17</th>\n",
       "      <td></td>\n",
       "      <td>4</td>\n",
       "      <td>Apple</td>\n",
       "      <td>Company</td>\n",
       "    </tr>\n",
       "  </tbody>\n",
       "</table>\n",
       "</div>"
      ],
      "text/plain": [
       "      commonname  mentions                    name          type\n",
       "0                        3               Instagram       Company\n",
       "1                        1               Pinterest       Company\n",
       "2                        1                LinkedIn       Company\n",
       "3                        1                  Amazon       Company\n",
       "4                        1               President      Position\n",
       "5                        1           iOS App Store      Facility\n",
       "6                        1                 SPOTIFY       Company\n",
       "7                        1  social media platforms  IndustryTerm\n",
       "8                        4                 Twitter       Company\n",
       "9                        1           Internet Bill  IndustryTerm\n",
       "10                       2                  Google       Company\n",
       "11                       1                 YouTube       Company\n",
       "12                       2                Facebook       Company\n",
       "13    Alex Jones        14              Alex Jones        Person\n",
       "14  Donald Trump         1            Donald Trump        Person\n",
       "15                       1                     CNN       Company\n",
       "16                       1       Google Play store      Facility\n",
       "17                       4                   Apple       Company"
      ]
     },
     "execution_count": 21,
     "metadata": {},
     "output_type": "execute_result"
    }
   ],
   "source": [
    "import pandas as pd\n",
    "\n",
    "df = pd.DataFrame(tags)\n",
    "df"
   ]
  },
  {
   "cell_type": "code",
   "execution_count": 18,
   "metadata": {},
   "outputs": [
    {
     "data": {
      "text/html": [
       "<div>\n",
       "<style scoped>\n",
       "    .dataframe tbody tr th:only-of-type {\n",
       "        vertical-align: middle;\n",
       "    }\n",
       "\n",
       "    .dataframe tbody tr th {\n",
       "        vertical-align: top;\n",
       "    }\n",
       "\n",
       "    .dataframe thead th {\n",
       "        text-align: right;\n",
       "    }\n",
       "</style>\n",
       "<table border=\"1\" class=\"dataframe\">\n",
       "  <thead>\n",
       "    <tr style=\"text-align: right;\">\n",
       "      <th></th>\n",
       "      <th>commonname</th>\n",
       "      <th>mentions</th>\n",
       "      <th>name</th>\n",
       "      <th>type</th>\n",
       "    </tr>\n",
       "  </thead>\n",
       "  <tbody>\n",
       "    <tr>\n",
       "      <th>0</th>\n",
       "      <td></td>\n",
       "      <td>3</td>\n",
       "      <td>Instagram</td>\n",
       "      <td>Company</td>\n",
       "    </tr>\n",
       "    <tr>\n",
       "      <th>8</th>\n",
       "      <td></td>\n",
       "      <td>4</td>\n",
       "      <td>Twitter</td>\n",
       "      <td>Company</td>\n",
       "    </tr>\n",
       "    <tr>\n",
       "      <th>13</th>\n",
       "      <td>Alex Jones</td>\n",
       "      <td>14</td>\n",
       "      <td>Alex Jones</td>\n",
       "      <td>Person</td>\n",
       "    </tr>\n",
       "    <tr>\n",
       "      <th>17</th>\n",
       "      <td></td>\n",
       "      <td>4</td>\n",
       "      <td>Apple</td>\n",
       "      <td>Company</td>\n",
       "    </tr>\n",
       "  </tbody>\n",
       "</table>\n",
       "</div>"
      ],
      "text/plain": [
       "    commonname  mentions        name     type\n",
       "0                      3   Instagram  Company\n",
       "8                      4     Twitter  Company\n",
       "13  Alex Jones        14  Alex Jones   Person\n",
       "17                     4       Apple  Company"
      ]
     },
     "execution_count": 18,
     "metadata": {},
     "output_type": "execute_result"
    }
   ],
   "source": [
    "df[df['mentions'] > df['mentions'].mean()]"
   ]
  },
  {
   "cell_type": "code",
   "execution_count": 19,
   "metadata": {},
   "outputs": [
    {
     "name": "stdout",
     "output_type": "stream",
     "text": [
      "https://archive.org/details/tv?q=Alex%20Jones\n"
     ]
    }
   ],
   "source": [
    "# Select all people who were mentioned more than the mean number of mentions per person\n",
    "POI = list(df[(df[\"type\"] == \"Person\") & (df['mentions'] > df[df['type'] =='Person']['mentions'].mean())]['commonname'])\n",
    "\n",
    "# Do we want to search full names, or just last names?\n",
    "query = \" AND \".join(POI)\n",
    "query = query.replace(\" \", \"%20\")\n",
    "\n",
    "queryURL = \"https://archive.org/details/tv?q=\"+query\n",
    "print(queryURL)"
   ]
  },
  {
   "cell_type": "code",
   "execution_count": 20,
   "metadata": {},
   "outputs": [
    {
     "data": {
      "text/plain": [
       "['Alex Jones']"
      ]
     },
     "execution_count": 20,
     "metadata": {},
     "output_type": "execute_result"
    }
   ],
   "source": [
    "POI"
   ]
  },
  {
   "cell_type": "code",
   "execution_count": 21,
   "metadata": {},
   "outputs": [],
   "source": [
    "json_result = {\"POI\": POI, \"document\": body, \"title\": title}"
   ]
  },
  {
   "cell_type": "code",
   "execution_count": 25,
   "metadata": {},
   "outputs": [],
   "source": [
    "with open(\"search_result.json\",\"w+\") as f:\n",
    "    json.dump(json_result, f)"
   ]
  },
  {
   "cell_type": "code",
   "execution_count": 26,
   "metadata": {},
   "outputs": [],
   "source": [
    "from sklearn.metrics.pairwise import pairwise_distances, cosine_distances"
   ]
  },
  {
   "cell_type": "code",
   "execution_count": null,
   "metadata": {},
   "outputs": [],
   "source": []
  }
 ],
 "metadata": {
  "kernelspec": {
   "display_name": "Python 3",
   "language": "python",
   "name": "python3"
  },
  "language_info": {
   "codemirror_mode": {
    "name": "ipython",
    "version": 3
   },
   "file_extension": ".py",
   "mimetype": "text/x-python",
   "name": "python",
   "nbconvert_exporter": "python",
   "pygments_lexer": "ipython3",
   "version": "3.6.4"
  }
 },
 "nbformat": 4,
 "nbformat_minor": 2
}
